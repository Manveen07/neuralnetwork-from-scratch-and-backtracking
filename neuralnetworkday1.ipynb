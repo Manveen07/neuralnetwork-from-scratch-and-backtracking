{
  "nbformat": 4,
  "nbformat_minor": 0,
  "metadata": {
    "colab": {
      "provenance": [],
      "authorship_tag": "ABX9TyPhmo4SU4GgetaPhXvxYhm9",
      "include_colab_link": true
    },
    "kernelspec": {
      "name": "python3",
      "display_name": "Python 3"
    },
    "language_info": {
      "name": "python"
    }
  },
  "cells": [
    {
      "cell_type": "markdown",
      "metadata": {
        "id": "view-in-github",
        "colab_type": "text"
      },
      "source": [
        "<a href=\"https://colab.research.google.com/github/Manveen07/neuralnetwork-from-scratch-and-backtracking/blob/main/neuralnetworkday1.ipynb\" target=\"_parent\"><img src=\"https://colab.research.google.com/assets/colab-badge.svg\" alt=\"Open In Colab\"/></a>"
      ]
    },
    {
      "cell_type": "code",
      "source": [
        "import math\n",
        "import random\n",
        "import numpy as np\n",
        "import matplotlib.pyplot as plt\n",
        "%matplotlib inline"
      ],
      "metadata": {
        "id": "I_NQS9apv_na"
      },
      "execution_count": null,
      "outputs": []
    },
    {
      "cell_type": "code",
      "execution_count": null,
      "metadata": {
        "id": "6jPYck-rF7QK"
      },
      "outputs": [],
      "source": [
        "class Value:\n",
        "  def __init__(self,data,_children=(),_op=\"\",label=''):\n",
        "    self.data=data\n",
        "    self._prev=set(_children)\n",
        "    self.grad=0\n",
        "    self._op=_op\n",
        "    self._backward=lambda:None\n",
        "    self.label=label\n",
        "  def __repr__(self):\n",
        "    return f\"value {self.label}(data={self.data})\"\n",
        "  def __truediv__(self,other):\n",
        "    return self*other**-1\n",
        "  def __neg__(self):\n",
        "    return self*-1\n",
        "  def __sub__(self,other):\n",
        "    return self+(-other)\n",
        "  def __add__(self,other):\n",
        "    other = other if isinstance(other, Value) else Value(other)\n",
        "    out=Value(self.data+other.data,(self,other),\"+\")\n",
        "    def _backward():\n",
        "      self.grad+=1.0*out.grad\n",
        "      other.grad+=1.0*out.grad\n",
        "    out._backward=_backward\n",
        "    return out\n",
        "  def __mul__(self,other):\n",
        "    other = other if isinstance(other, Value) else Value(other)\n",
        "    out=Value(self.data*other.data,(self,other),\"*\")\n",
        "    def _backward():\n",
        "      self.grad+=other.data*out.grad\n",
        "      other.grad+=self.data*out.grad\n",
        "    out._backward=_backward\n",
        "    return out\n",
        "  def __pow__(self,other):\n",
        "    assert isinstance(other,(int,float))\n",
        "    out=Value(self.data**other,(self,),f\"**{other}\")\n",
        "    def _backward():\n",
        "      self.grad+=other*(self.data**(other-1))*out.grad\n",
        "    out._backward=_backward\n",
        "    return out\n",
        "\n",
        "  def tanh(self):\n",
        "    n=self.data\n",
        "    t=(math.exp(2*n)-1)/(math.exp(2*n)+1)\n",
        "    out=Value(t,(self,),\"tanh\")\n",
        "    def _backward():\n",
        "      self.grad+=(1-t**2)*out.grad\n",
        "    out._backward=_backward\n",
        "    return out\n",
        "  def backward(self):\n",
        "\n",
        "    topo = []\n",
        "    visited = set()\n",
        "    def build_topo(v):\n",
        "      if v not in visited:\n",
        "        visited.add(v)\n",
        "        for child in v._prev:\n",
        "          build_topo(child)\n",
        "        topo.append(v)\n",
        "    build_topo(self)\n",
        "\n",
        "    self.grad = 1.0\n",
        "    for node in reversed(topo):\n",
        "      node._backward()\n",
        "  def exp(self):\n",
        "    x=self.data\n",
        "    out=Value(math.exp(x),(self,),\"exp\")\n",
        "    def _backward():\n",
        "      self.grad+=out.data*out.grad\n",
        "    out._backward=_backward\n",
        "    return out\n",
        "  def __rmul__(self, other): # other * self\n",
        "    return self * other\n",
        "  def __radd__(self, other): # other + self\n",
        "    return self + other\n",
        "\n"
      ]
    },
    {
      "cell_type": "code",
      "source": [
        "from graphviz import Digraph\n",
        "\n",
        "def trace(root):\n",
        "  # builds a set of all nodes and edges in a graph\n",
        "  nodes, edges = set(), set()\n",
        "  def build(v):\n",
        "    if v not in nodes:\n",
        "      nodes.add(v)\n",
        "      for child in v._prev:\n",
        "        edges.add((child, v))\n",
        "        build(child)\n",
        "  build(root)\n",
        "  return nodes, edges\n",
        "\n",
        "def draw_dot(root):\n",
        "  dot = Digraph(format='svg', graph_attr={'rankdir': 'LR'}) # LR = left to right\n",
        "\n",
        "  nodes, edges = trace(root)\n",
        "  for n in nodes:\n",
        "    uid = str(id(n))\n",
        "    # for any value in the graph, create a rectangular ('record') node for it\n",
        "    dot.node(name = uid, label = \"{ %s | data %.4f | grad %.4f }\" % (n.label, n.data, n.grad), shape='record')\n",
        "    if n._op:\n",
        "      # if this value is a result of some operation, create an op node for it\n",
        "      dot.node(name = uid + n._op, label = n._op)\n",
        "      # and connect this node to it\n",
        "      dot.edge(uid + n._op, uid)\n",
        "\n",
        "  for n1, n2 in edges:\n",
        "    # connect n1 to the op node of n2\n",
        "    dot.edge(str(id(n1)), str(id(n2)) + n2._op)\n",
        "\n",
        "  return dot"
      ],
      "metadata": {
        "id": "bujWdwoiYWRv"
      },
      "execution_count": null,
      "outputs": []
    },
    {
      "cell_type": "code",
      "source": [
        "a=Value(2.0,label=\"a\")\n",
        "b=Value(-3.0,label=\"b\")\n",
        "c=Value(10,label=\"c\")\n",
        "e=a*b;e.label=\"e\"\n",
        "d=e+c;d.label=\"d\"\n",
        "f=Value(-2.0,label=\"f\")\n",
        "L=d*f;L.label=\"L\""
      ],
      "metadata": {
        "id": "84e3Q7gyGnOQ"
      },
      "execution_count": null,
      "outputs": []
    },
    {
      "cell_type": "code",
      "source": [
        "draw_dot(L)"
      ],
      "metadata": {
        "colab": {
          "base_uri": "https://localhost:8080/",
          "height": 246
        },
        "id": "zDDl1DYNYcsj",
        "outputId": "aa3ccc29-711f-47c4-8865-54d578b7114b"
      },
      "execution_count": null,
      "outputs": [
        {
          "output_type": "execute_result",
          "data": {
            "image/svg+xml": "<?xml version=\"1.0\" encoding=\"UTF-8\" standalone=\"no\"?>\n<!DOCTYPE svg PUBLIC \"-//W3C//DTD SVG 1.1//EN\"\n \"http://www.w3.org/Graphics/SVG/1.1/DTD/svg11.dtd\">\n<!-- Generated by graphviz version 2.43.0 (0)\n -->\n<!-- Title: %3 Pages: 1 -->\n<svg width=\"1157pt\" height=\"154pt\"\n viewBox=\"0.00 0.00 1157.00 154.00\" xmlns=\"http://www.w3.org/2000/svg\" xmlns:xlink=\"http://www.w3.org/1999/xlink\">\n<g id=\"graph0\" class=\"graph\" transform=\"scale(1 1) rotate(0) translate(4 150)\">\n<title>%3</title>\n<polygon fill=\"white\" stroke=\"transparent\" points=\"-4,4 -4,-150 1153,-150 1153,4 -4,4\"/>\n<!-- 139033688892432 -->\n<g id=\"node1\" class=\"node\">\n<title>139033688892432</title>\n<polygon fill=\"none\" stroke=\"black\" points=\"957,-81.5 957,-117.5 1149,-117.5 1149,-81.5 957,-81.5\"/>\n<text text-anchor=\"middle\" x=\"969.5\" y=\"-95.8\" font-family=\"Times,serif\" font-size=\"14.00\">L</text>\n<polyline fill=\"none\" stroke=\"black\" points=\"982,-81.5 982,-117.5 \"/>\n<text text-anchor=\"middle\" x=\"1024.5\" y=\"-95.8\" font-family=\"Times,serif\" font-size=\"14.00\">data &#45;8.0000</text>\n<polyline fill=\"none\" stroke=\"black\" points=\"1067,-81.5 1067,-117.5 \"/>\n<text text-anchor=\"middle\" x=\"1108\" y=\"-95.8\" font-family=\"Times,serif\" font-size=\"14.00\">grad 1.0000</text>\n</g>\n<!-- 139033688892432* -->\n<g id=\"node2\" class=\"node\">\n<title>139033688892432*</title>\n<ellipse fill=\"none\" stroke=\"black\" cx=\"894\" cy=\"-99.5\" rx=\"27\" ry=\"18\"/>\n<text text-anchor=\"middle\" x=\"894\" y=\"-95.8\" font-family=\"Times,serif\" font-size=\"14.00\">*</text>\n</g>\n<!-- 139033688892432*&#45;&gt;139033688892432 -->\n<g id=\"edge1\" class=\"edge\">\n<title>139033688892432*&#45;&gt;139033688892432</title>\n<path fill=\"none\" stroke=\"black\" d=\"M921.28,-99.5C928.78,-99.5 937.44,-99.5 946.67,-99.5\"/>\n<polygon fill=\"black\" stroke=\"black\" points=\"946.87,-103 956.87,-99.5 946.87,-96 946.87,-103\"/>\n</g>\n<!-- 139033688893104 -->\n<g id=\"node3\" class=\"node\">\n<title>139033688893104</title>\n<polygon fill=\"none\" stroke=\"black\" points=\"4.5,-55.5 4.5,-91.5 189.5,-91.5 189.5,-55.5 4.5,-55.5\"/>\n<text text-anchor=\"middle\" x=\"16\" y=\"-69.8\" font-family=\"Times,serif\" font-size=\"14.00\">a</text>\n<polyline fill=\"none\" stroke=\"black\" points=\"27.5,-55.5 27.5,-91.5 \"/>\n<text text-anchor=\"middle\" x=\"67.5\" y=\"-69.8\" font-family=\"Times,serif\" font-size=\"14.00\">data 2.0000</text>\n<polyline fill=\"none\" stroke=\"black\" points=\"107.5,-55.5 107.5,-91.5 \"/>\n<text text-anchor=\"middle\" x=\"148.5\" y=\"-69.8\" font-family=\"Times,serif\" font-size=\"14.00\">grad 6.0000</text>\n</g>\n<!-- 139033688896416* -->\n<g id=\"node10\" class=\"node\">\n<title>139033688896416*</title>\n<ellipse fill=\"none\" stroke=\"black\" cx=\"257\" cy=\"-45.5\" rx=\"27\" ry=\"18\"/>\n<text text-anchor=\"middle\" x=\"257\" y=\"-41.8\" font-family=\"Times,serif\" font-size=\"14.00\">*</text>\n</g>\n<!-- 139033688893104&#45;&gt;139033688896416* -->\n<g id=\"edge5\" class=\"edge\">\n<title>139033688893104&#45;&gt;139033688896416*</title>\n<path fill=\"none\" stroke=\"black\" d=\"M189.91,-57.21C200.76,-55.29 211.28,-53.43 220.61,-51.77\"/>\n<polygon fill=\"black\" stroke=\"black\" points=\"221.37,-55.19 230.6,-50 220.15,-48.3 221.37,-55.19\"/>\n</g>\n<!-- 139033688895744 -->\n<g id=\"node4\" class=\"node\">\n<title>139033688895744</title>\n<polygon fill=\"none\" stroke=\"black\" points=\"642.5,-109.5 642.5,-145.5 830.5,-145.5 830.5,-109.5 642.5,-109.5\"/>\n<text text-anchor=\"middle\" x=\"653\" y=\"-123.8\" font-family=\"Times,serif\" font-size=\"14.00\">f</text>\n<polyline fill=\"none\" stroke=\"black\" points=\"663.5,-109.5 663.5,-145.5 \"/>\n<text text-anchor=\"middle\" x=\"706\" y=\"-123.8\" font-family=\"Times,serif\" font-size=\"14.00\">data &#45;2.0000</text>\n<polyline fill=\"none\" stroke=\"black\" points=\"748.5,-109.5 748.5,-145.5 \"/>\n<text text-anchor=\"middle\" x=\"789.5\" y=\"-123.8\" font-family=\"Times,serif\" font-size=\"14.00\">grad 4.0000</text>\n</g>\n<!-- 139033688895744&#45;&gt;139033688892432* -->\n<g id=\"edge8\" class=\"edge\">\n<title>139033688895744&#45;&gt;139033688892432*</title>\n<path fill=\"none\" stroke=\"black\" d=\"M830.65,-110.73C840.2,-109.01 849.43,-107.35 857.72,-105.85\"/>\n<polygon fill=\"black\" stroke=\"black\" points=\"858.47,-109.27 867.69,-104.06 857.23,-102.39 858.47,-109.27\"/>\n</g>\n<!-- 139033688890128 -->\n<g id=\"node5\" class=\"node\">\n<title>139033688890128</title>\n<polygon fill=\"none\" stroke=\"black\" points=\"642,-54.5 642,-90.5 831,-90.5 831,-54.5 642,-54.5\"/>\n<text text-anchor=\"middle\" x=\"653.5\" y=\"-68.8\" font-family=\"Times,serif\" font-size=\"14.00\">d</text>\n<polyline fill=\"none\" stroke=\"black\" points=\"665,-54.5 665,-90.5 \"/>\n<text text-anchor=\"middle\" x=\"705\" y=\"-68.8\" font-family=\"Times,serif\" font-size=\"14.00\">data 4.0000</text>\n<polyline fill=\"none\" stroke=\"black\" points=\"745,-54.5 745,-90.5 \"/>\n<text text-anchor=\"middle\" x=\"788\" y=\"-68.8\" font-family=\"Times,serif\" font-size=\"14.00\">grad &#45;2.0000</text>\n</g>\n<!-- 139033688890128&#45;&gt;139033688892432* -->\n<g id=\"edge4\" class=\"edge\">\n<title>139033688890128&#45;&gt;139033688892432*</title>\n<path fill=\"none\" stroke=\"black\" d=\"M831.1,-88.75C840.4,-90.37 849.38,-91.93 857.49,-93.33\"/>\n<polygon fill=\"black\" stroke=\"black\" points=\"857.14,-96.83 867.59,-95.09 858.34,-89.93 857.14,-96.83\"/>\n</g>\n<!-- 139033688890128+ -->\n<g id=\"node6\" class=\"node\">\n<title>139033688890128+</title>\n<ellipse fill=\"none\" stroke=\"black\" cx=\"579\" cy=\"-72.5\" rx=\"27\" ry=\"18\"/>\n<text text-anchor=\"middle\" x=\"579\" y=\"-68.8\" font-family=\"Times,serif\" font-size=\"14.00\">+</text>\n</g>\n<!-- 139033688890128+&#45;&gt;139033688890128 -->\n<g id=\"edge2\" class=\"edge\">\n<title>139033688890128+&#45;&gt;139033688890128</title>\n<path fill=\"none\" stroke=\"black\" d=\"M606.03,-72.5C613.66,-72.5 622.52,-72.5 631.94,-72.5\"/>\n<polygon fill=\"black\" stroke=\"black\" points=\"631.94,-76 641.94,-72.5 631.94,-69 631.94,-76\"/>\n</g>\n<!-- 139033688889168 -->\n<g id=\"node7\" class=\"node\">\n<title>139033688889168</title>\n<polygon fill=\"none\" stroke=\"black\" points=\"0,-0.5 0,-36.5 194,-36.5 194,-0.5 0,-0.5\"/>\n<text text-anchor=\"middle\" x=\"11.5\" y=\"-14.8\" font-family=\"Times,serif\" font-size=\"14.00\">b</text>\n<polyline fill=\"none\" stroke=\"black\" points=\"23,-0.5 23,-36.5 \"/>\n<text text-anchor=\"middle\" x=\"65.5\" y=\"-14.8\" font-family=\"Times,serif\" font-size=\"14.00\">data &#45;3.0000</text>\n<polyline fill=\"none\" stroke=\"black\" points=\"108,-0.5 108,-36.5 \"/>\n<text text-anchor=\"middle\" x=\"151\" y=\"-14.8\" font-family=\"Times,serif\" font-size=\"14.00\">grad &#45;4.0000</text>\n</g>\n<!-- 139033688889168&#45;&gt;139033688896416* -->\n<g id=\"edge6\" class=\"edge\">\n<title>139033688889168&#45;&gt;139033688896416*</title>\n<path fill=\"none\" stroke=\"black\" d=\"M194.01,-34.91C203.35,-36.5 212.37,-38.04 220.49,-39.43\"/>\n<polygon fill=\"black\" stroke=\"black\" points=\"220.16,-42.93 230.6,-41.16 221.34,-36.03 220.16,-42.93\"/>\n</g>\n<!-- 139033688890224 -->\n<g id=\"node8\" class=\"node\">\n<title>139033688890224</title>\n<polygon fill=\"none\" stroke=\"black\" points=\"320,-82.5 320,-118.5 516,-118.5 516,-82.5 320,-82.5\"/>\n<text text-anchor=\"middle\" x=\"331.5\" y=\"-96.8\" font-family=\"Times,serif\" font-size=\"14.00\">c</text>\n<polyline fill=\"none\" stroke=\"black\" points=\"343,-82.5 343,-118.5 \"/>\n<text text-anchor=\"middle\" x=\"386.5\" y=\"-96.8\" font-family=\"Times,serif\" font-size=\"14.00\">data 10.0000</text>\n<polyline fill=\"none\" stroke=\"black\" points=\"430,-82.5 430,-118.5 \"/>\n<text text-anchor=\"middle\" x=\"473\" y=\"-96.8\" font-family=\"Times,serif\" font-size=\"14.00\">grad &#45;2.0000</text>\n</g>\n<!-- 139033688890224&#45;&gt;139033688890128+ -->\n<g id=\"edge9\" class=\"edge\">\n<title>139033688890224&#45;&gt;139033688890128+</title>\n<path fill=\"none\" stroke=\"black\" d=\"M516.07,-83.41C525.42,-81.76 534.43,-80.17 542.55,-78.74\"/>\n<polygon fill=\"black\" stroke=\"black\" points=\"543.41,-82.15 552.65,-76.96 542.2,-75.25 543.41,-82.15\"/>\n</g>\n<!-- 139033688896416 -->\n<g id=\"node9\" class=\"node\">\n<title>139033688896416</title>\n<polygon fill=\"none\" stroke=\"black\" points=\"321,-27.5 321,-63.5 515,-63.5 515,-27.5 321,-27.5\"/>\n<text text-anchor=\"middle\" x=\"332.5\" y=\"-41.8\" font-family=\"Times,serif\" font-size=\"14.00\">e</text>\n<polyline fill=\"none\" stroke=\"black\" points=\"344,-27.5 344,-63.5 \"/>\n<text text-anchor=\"middle\" x=\"386.5\" y=\"-41.8\" font-family=\"Times,serif\" font-size=\"14.00\">data &#45;6.0000</text>\n<polyline fill=\"none\" stroke=\"black\" points=\"429,-27.5 429,-63.5 \"/>\n<text text-anchor=\"middle\" x=\"472\" y=\"-41.8\" font-family=\"Times,serif\" font-size=\"14.00\">grad &#45;2.0000</text>\n</g>\n<!-- 139033688896416&#45;&gt;139033688890128+ -->\n<g id=\"edge7\" class=\"edge\">\n<title>139033688896416&#45;&gt;139033688890128+</title>\n<path fill=\"none\" stroke=\"black\" d=\"M515.16,-61.83C524.82,-63.47 534.13,-65.05 542.49,-66.47\"/>\n<polygon fill=\"black\" stroke=\"black\" points=\"542.09,-69.95 552.54,-68.18 543.26,-63.05 542.09,-69.95\"/>\n</g>\n<!-- 139033688896416*&#45;&gt;139033688896416 -->\n<g id=\"edge3\" class=\"edge\">\n<title>139033688896416*&#45;&gt;139033688896416</title>\n<path fill=\"none\" stroke=\"black\" d=\"M284.26,-45.5C292.05,-45.5 301.1,-45.5 310.75,-45.5\"/>\n<polygon fill=\"black\" stroke=\"black\" points=\"310.99,-49 320.99,-45.5 310.99,-42 310.99,-49\"/>\n</g>\n</g>\n</svg>\n",
            "text/plain": [
              "<graphviz.graphs.Digraph at 0x7e734dab2260>"
            ]
          },
          "metadata": {},
          "execution_count": 28
        }
      ]
    },
    {
      "cell_type": "code",
      "source": [
        "L.backward()"
      ],
      "metadata": {
        "id": "EBOz9gCiKmq8"
      },
      "execution_count": null,
      "outputs": []
    },
    {
      "cell_type": "code",
      "source": [
        "a.data+=0.01*a.grad\n",
        "b.data+=0.01*b.grad\n",
        "c.data+=0.01*c.grad\n",
        "f.data+=0.01*f.grad\n",
        "e=a*b\n",
        "d=e+c\n",
        "L=d*f\n",
        "print(L.data)"
      ],
      "metadata": {
        "colab": {
          "base_uri": "https://localhost:8080/"
        },
        "id": "qdj3GHlTtLJq",
        "outputId": "5c3049b7-0adb-410d-a48e-fe5bf2181264"
      },
      "execution_count": null,
      "outputs": [
        {
          "output_type": "stream",
          "name": "stdout",
          "text": [
            "-7.286496\n"
          ]
        }
      ]
    },
    {
      "cell_type": "code",
      "source": [
        "def lol():\n",
        "\n",
        "  h = 0.001\n",
        "\n",
        "  a = Value(2.0, label='a')\n",
        "  b = Value(-3.0, label='b')\n",
        "  c = Value(10.0, label='c')\n",
        "  e = a*b; e.label = 'e'\n",
        "  d = e + c; d.label = 'd'\n",
        "  f = Value(-2.0, label='f')\n",
        "  L = d * f; L.label = 'L'\n",
        "  L1 = L.data\n",
        "\n",
        "  a = Value(2.0 , label='a')\n",
        "  b = Value(-3.0+h, label='b')\n",
        "  c = Value(10.0, label='c')\n",
        "  e = a*b; e.label = 'e'\n",
        "  d = e + c; d.label = 'd'\n",
        "\n",
        "  f = Value(-2.0, label='f')\n",
        "  L = d* f; L.label = 'L'\n",
        "  L2 = L.data\n",
        "\n",
        "  print((L2 - L1)/h)\n",
        "lol()"
      ],
      "metadata": {
        "colab": {
          "base_uri": "https://localhost:8080/"
        },
        "id": "47tfcyncYxUc",
        "outputId": "8c0d531e-11ce-4108-9ae1-a8f18d3fc347"
      },
      "execution_count": null,
      "outputs": [
        {
          "output_type": "stream",
          "name": "stdout",
          "text": [
            "-3.9999999999995595\n"
          ]
        }
      ]
    },
    {
      "cell_type": "code",
      "source": [
        "#dl/dc=dd/dc*dL/dd chain rule\n",
        "d=e+c\n",
        "#dd/dc=1\n",
        "#dd/de=1\n",
        "l=d*f\n",
        "#dl/dd=f\n",
        "#dl/df=d"
      ],
      "metadata": {
        "id": "zHJbstM3omow"
      },
      "execution_count": null,
      "outputs": []
    },
    {
      "cell_type": "code",
      "source": [
        "f.grad=4.0\n",
        "d.grad=-2.0"
      ],
      "metadata": {
        "id": "0fm0sx4Pn8kl"
      },
      "execution_count": null,
      "outputs": []
    },
    {
      "cell_type": "code",
      "source": [
        "L.grad=1.0"
      ],
      "metadata": {
        "id": "kAJqsXfGaUS-"
      },
      "execution_count": null,
      "outputs": []
    },
    {
      "cell_type": "code",
      "source": [
        "c.grad=-2.0\n",
        "e.grad=-2.0"
      ],
      "metadata": {
        "id": "xhLNKekQrKzS"
      },
      "execution_count": null,
      "outputs": []
    },
    {
      "cell_type": "code",
      "source": [
        "#dL/de=-2.0\n",
        "#dL/da=dL/de*de/da\n",
        "#e=a*b\n",
        "#de/da=b=-3\n",
        "a.grad=6\n",
        "#de/db=a=2\n",
        "#dl/db=-2.0*2\n",
        "b.grad=-4.0"
      ],
      "metadata": {
        "id": "f1LldK8Frzqz"
      },
      "execution_count": null,
      "outputs": []
    },
    {
      "cell_type": "code",
      "source": [
        "# inputs x1,x2\n",
        "x1 = Value(2.0, label='x1')\n",
        "x2 = Value(0.0, label='x2')\n",
        "# weights w1,w2\n",
        "w1 = Value(-3.0, label='w1')\n",
        "w2 = Value(1.0, label='w2')\n",
        "# bias of the neuron\n",
        "b = Value(6.8813735870195432, label='b')\n",
        "# x1*w1 + x2*w2 + b\n",
        "x1w1 = x1*w1; x1w1.label = 'x1*w1'\n",
        "x2w2 = x2*w2; x2w2.label = 'x2*w2'\n",
        "x1w1x2w2 = x1w1 + x2w2; x1w1x2w2.label = 'x1*w1 + x2*w2'\n",
        "n = x1w1x2w2 + b; n.label = 'n'\n",
        "e=(2*n).exp();e.label='e'\n",
        "o = (e-1)/(e+1); o.label='o'\n",
        "o.backward()\n",
        "#o = n.tanh(); o.label = 'o'"
      ],
      "metadata": {
        "id": "LA2GHjtawtDC"
      },
      "execution_count": null,
      "outputs": []
    },
    {
      "cell_type": "code",
      "source": [
        "draw_dot(o)"
      ],
      "metadata": {
        "colab": {
          "base_uri": "https://localhost:8080/",
          "height": 360
        },
        "id": "T1TOOhbIw7P4",
        "outputId": "eeb55522-ab80-4004-8c40-81c5cdef2092"
      },
      "execution_count": null,
      "outputs": [
        {
          "output_type": "execute_result",
          "data": {
            "image/svg+xml": "<?xml version=\"1.0\" encoding=\"UTF-8\" standalone=\"no\"?>\n<!DOCTYPE svg PUBLIC \"-//W3C//DTD SVG 1.1//EN\"\n \"http://www.w3.org/Graphics/SVG/1.1/DTD/svg11.dtd\">\n<!-- Generated by graphviz version 2.43.0 (0)\n -->\n<!-- Title: %3 Pages: 1 -->\n<svg width=\"2944pt\" height=\"239pt\"\n viewBox=\"0.00 0.00 2944.00 239.00\" xmlns=\"http://www.w3.org/2000/svg\" xmlns:xlink=\"http://www.w3.org/1999/xlink\">\n<g id=\"graph0\" class=\"graph\" transform=\"scale(1 1) rotate(0) translate(4 235)\">\n<title>%3</title>\n<polygon fill=\"white\" stroke=\"transparent\" points=\"-4,4 -4,-235 2940,-235 2940,4 -4,4\"/>\n<!-- 135300420882432 -->\n<g id=\"node1\" class=\"node\">\n<title>135300420882432</title>\n<polygon fill=\"none\" stroke=\"black\" points=\"2.5,-194.5 2.5,-230.5 197.5,-230.5 197.5,-194.5 2.5,-194.5\"/>\n<text text-anchor=\"middle\" x=\"19\" y=\"-208.8\" font-family=\"Times,serif\" font-size=\"14.00\">w2</text>\n<polyline fill=\"none\" stroke=\"black\" points=\"35.5,-194.5 35.5,-230.5 \"/>\n<text text-anchor=\"middle\" x=\"75.5\" y=\"-208.8\" font-family=\"Times,serif\" font-size=\"14.00\">data 1.0000</text>\n<polyline fill=\"none\" stroke=\"black\" points=\"115.5,-194.5 115.5,-230.5 \"/>\n<text text-anchor=\"middle\" x=\"156.5\" y=\"-208.8\" font-family=\"Times,serif\" font-size=\"14.00\">grad 0.0000</text>\n</g>\n<!-- 135300420883344* -->\n<g id=\"node5\" class=\"node\">\n<title>135300420883344*</title>\n<ellipse fill=\"none\" stroke=\"black\" cx=\"263\" cy=\"-157.5\" rx=\"27\" ry=\"18\"/>\n<text text-anchor=\"middle\" x=\"263\" y=\"-153.8\" font-family=\"Times,serif\" font-size=\"14.00\">*</text>\n</g>\n<!-- 135300420882432&#45;&gt;135300420883344* -->\n<g id=\"edge27\" class=\"edge\">\n<title>135300420882432&#45;&gt;135300420883344*</title>\n<path fill=\"none\" stroke=\"black\" d=\"M172.53,-194.44C181.84,-191.67 191.2,-188.67 200,-185.5 210.53,-181.71 221.75,-176.9 231.72,-172.33\"/>\n<polygon fill=\"black\" stroke=\"black\" points=\"233.25,-175.48 240.82,-168.07 230.28,-169.14 233.25,-175.48\"/>\n</g>\n<!-- 135300420881472 -->\n<g id=\"node2\" class=\"node\">\n<title>135300420881472</title>\n<polygon fill=\"none\" stroke=\"black\" points=\"2003,-82.5 2003,-118.5 2189,-118.5 2189,-82.5 2003,-82.5\"/>\n<text text-anchor=\"middle\" x=\"2013\" y=\"-96.8\" font-family=\"Times,serif\" font-size=\"14.00\"> </text>\n<polyline fill=\"none\" stroke=\"black\" points=\"2023,-82.5 2023,-118.5 \"/>\n<text text-anchor=\"middle\" x=\"2063\" y=\"-96.8\" font-family=\"Times,serif\" font-size=\"14.00\">data 6.8284</text>\n<polyline fill=\"none\" stroke=\"black\" points=\"2103,-82.5 2103,-118.5 \"/>\n<text text-anchor=\"middle\" x=\"2146\" y=\"-96.8\" font-family=\"Times,serif\" font-size=\"14.00\">grad &#45;0.1036</text>\n</g>\n<!-- 135300420883680**&#45;1 -->\n<g id=\"node17\" class=\"node\">\n<title>135300420883680**&#45;1</title>\n<ellipse fill=\"none\" stroke=\"black\" cx=\"2316\" cy=\"-100.5\" rx=\"27\" ry=\"18\"/>\n<text text-anchor=\"middle\" x=\"2316\" y=\"-96.8\" font-family=\"Times,serif\" font-size=\"14.00\">**&#45;1</text>\n</g>\n<!-- 135300420881472&#45;&gt;135300420883680**&#45;1 -->\n<g id=\"edge26\" class=\"edge\">\n<title>135300420881472&#45;&gt;135300420883680**&#45;1</title>\n<path fill=\"none\" stroke=\"black\" d=\"M2189.14,-100.5C2220.72,-100.5 2254.24,-100.5 2278.74,-100.5\"/>\n<polygon fill=\"black\" stroke=\"black\" points=\"2278.98,-104 2288.98,-100.5 2278.98,-97 2278.98,-104\"/>\n</g>\n<!-- 135300420881472+ -->\n<g id=\"node3\" class=\"node\">\n<title>135300420881472+</title>\n<ellipse fill=\"none\" stroke=\"black\" cx=\"1940\" cy=\"-100.5\" rx=\"27\" ry=\"18\"/>\n<text text-anchor=\"middle\" x=\"1940\" y=\"-96.8\" font-family=\"Times,serif\" font-size=\"14.00\">+</text>\n</g>\n<!-- 135300420881472+&#45;&gt;135300420881472 -->\n<g id=\"edge1\" class=\"edge\">\n<title>135300420881472+&#45;&gt;135300420881472</title>\n<path fill=\"none\" stroke=\"black\" d=\"M1967.12,-100.5C1974.62,-100.5 1983.29,-100.5 1992.5,-100.5\"/>\n<polygon fill=\"black\" stroke=\"black\" points=\"1992.69,-104 2002.69,-100.5 1992.69,-97 1992.69,-104\"/>\n</g>\n<!-- 135300420883344 -->\n<g id=\"node4\" class=\"node\">\n<title>135300420883344</title>\n<polygon fill=\"none\" stroke=\"black\" points=\"328.5,-139.5 328.5,-175.5 543.5,-175.5 543.5,-139.5 328.5,-139.5\"/>\n<text text-anchor=\"middle\" x=\"355\" y=\"-153.8\" font-family=\"Times,serif\" font-size=\"14.00\">x2*w2</text>\n<polyline fill=\"none\" stroke=\"black\" points=\"381.5,-139.5 381.5,-175.5 \"/>\n<text text-anchor=\"middle\" x=\"421.5\" y=\"-153.8\" font-family=\"Times,serif\" font-size=\"14.00\">data 0.0000</text>\n<polyline fill=\"none\" stroke=\"black\" points=\"461.5,-139.5 461.5,-175.5 \"/>\n<text text-anchor=\"middle\" x=\"502.5\" y=\"-153.8\" font-family=\"Times,serif\" font-size=\"14.00\">grad 0.5000</text>\n</g>\n<!-- 135300420892128+ -->\n<g id=\"node27\" class=\"node\">\n<title>135300420892128+</title>\n<ellipse fill=\"none\" stroke=\"black\" cx=\"609\" cy=\"-129.5\" rx=\"27\" ry=\"18\"/>\n<text text-anchor=\"middle\" x=\"609\" y=\"-125.8\" font-family=\"Times,serif\" font-size=\"14.00\">+</text>\n</g>\n<!-- 135300420883344&#45;&gt;135300420892128+ -->\n<g id=\"edge15\" class=\"edge\">\n<title>135300420883344&#45;&gt;135300420892128+</title>\n<path fill=\"none\" stroke=\"black\" d=\"M543.84,-140.01C554.01,-138.34 563.76,-136.74 572.44,-135.32\"/>\n<polygon fill=\"black\" stroke=\"black\" points=\"573.17,-138.75 582.47,-133.68 572.04,-131.84 573.17,-138.75\"/>\n</g>\n<!-- 135300420883344*&#45;&gt;135300420883344 -->\n<g id=\"edge2\" class=\"edge\">\n<title>135300420883344*&#45;&gt;135300420883344</title>\n<path fill=\"none\" stroke=\"black\" d=\"M290.34,-157.5C298.51,-157.5 308.08,-157.5 318.36,-157.5\"/>\n<polygon fill=\"black\" stroke=\"black\" points=\"318.39,-161 328.39,-157.5 318.39,-154 318.39,-161\"/>\n</g>\n<!-- 135300420881520 -->\n<g id=\"node6\" class=\"node\">\n<title>135300420881520</title>\n<polygon fill=\"none\" stroke=\"black\" points=\"1690,-0.5 1690,-36.5 1877,-36.5 1877,-0.5 1690,-0.5\"/>\n<text text-anchor=\"middle\" x=\"1700\" y=\"-14.8\" font-family=\"Times,serif\" font-size=\"14.00\"> </text>\n<polyline fill=\"none\" stroke=\"black\" points=\"1710,-0.5 1710,-36.5 \"/>\n<text text-anchor=\"middle\" x=\"1752.5\" y=\"-14.8\" font-family=\"Times,serif\" font-size=\"14.00\">data &#45;1.0000</text>\n<polyline fill=\"none\" stroke=\"black\" points=\"1795,-0.5 1795,-36.5 \"/>\n<text text-anchor=\"middle\" x=\"1836\" y=\"-14.8\" font-family=\"Times,serif\" font-size=\"14.00\">grad 0.1464</text>\n</g>\n<!-- 135300420893904+ -->\n<g id=\"node10\" class=\"node\">\n<title>135300420893904+</title>\n<ellipse fill=\"none\" stroke=\"black\" cx=\"1940\" cy=\"-45.5\" rx=\"27\" ry=\"18\"/>\n<text text-anchor=\"middle\" x=\"1940\" y=\"-41.8\" font-family=\"Times,serif\" font-size=\"14.00\">+</text>\n</g>\n<!-- 135300420881520&#45;&gt;135300420893904+ -->\n<g id=\"edge16\" class=\"edge\">\n<title>135300420881520&#45;&gt;135300420893904+</title>\n<path fill=\"none\" stroke=\"black\" d=\"M1877.05,-34.67C1886.34,-36.3 1895.33,-37.87 1903.44,-39.29\"/>\n<polygon fill=\"black\" stroke=\"black\" points=\"1903.1,-42.78 1913.55,-41.05 1904.3,-35.88 1903.1,-42.78\"/>\n</g>\n<!-- 135300420883584 -->\n<g id=\"node7\" class=\"node\">\n<title>135300420883584</title>\n<polygon fill=\"none\" stroke=\"black\" points=\"1690.5,-110.5 1690.5,-146.5 1876.5,-146.5 1876.5,-110.5 1690.5,-110.5\"/>\n<text text-anchor=\"middle\" x=\"1700.5\" y=\"-124.8\" font-family=\"Times,serif\" font-size=\"14.00\"> </text>\n<polyline fill=\"none\" stroke=\"black\" points=\"1710.5,-110.5 1710.5,-146.5 \"/>\n<text text-anchor=\"middle\" x=\"1750.5\" y=\"-124.8\" font-family=\"Times,serif\" font-size=\"14.00\">data 1.0000</text>\n<polyline fill=\"none\" stroke=\"black\" points=\"1790.5,-110.5 1790.5,-146.5 \"/>\n<text text-anchor=\"middle\" x=\"1833.5\" y=\"-124.8\" font-family=\"Times,serif\" font-size=\"14.00\">grad &#45;0.1036</text>\n</g>\n<!-- 135300420883584&#45;&gt;135300420881472+ -->\n<g id=\"edge17\" class=\"edge\">\n<title>135300420883584&#45;&gt;135300420881472+</title>\n<path fill=\"none\" stroke=\"black\" d=\"M1876.6,-111.81C1886.15,-110.08 1895.37,-108.41 1903.68,-106.9\"/>\n<polygon fill=\"black\" stroke=\"black\" points=\"1904.43,-110.32 1913.65,-105.09 1903.18,-103.43 1904.43,-110.32\"/>\n</g>\n<!-- 135300420888240 -->\n<g id=\"node8\" class=\"node\">\n<title>135300420888240</title>\n<polygon fill=\"none\" stroke=\"black\" points=\"2,-84.5 2,-120.5 198,-120.5 198,-84.5 2,-84.5\"/>\n<text text-anchor=\"middle\" x=\"17\" y=\"-98.8\" font-family=\"Times,serif\" font-size=\"14.00\">x1</text>\n<polyline fill=\"none\" stroke=\"black\" points=\"32,-84.5 32,-120.5 \"/>\n<text text-anchor=\"middle\" x=\"72\" y=\"-98.8\" font-family=\"Times,serif\" font-size=\"14.00\">data 2.0000</text>\n<polyline fill=\"none\" stroke=\"black\" points=\"112,-84.5 112,-120.5 \"/>\n<text text-anchor=\"middle\" x=\"155\" y=\"-98.8\" font-family=\"Times,serif\" font-size=\"14.00\">grad &#45;1.5000</text>\n</g>\n<!-- 135300420890880* -->\n<g id=\"node15\" class=\"node\">\n<title>135300420890880*</title>\n<ellipse fill=\"none\" stroke=\"black\" cx=\"263\" cy=\"-102.5\" rx=\"27\" ry=\"18\"/>\n<text text-anchor=\"middle\" x=\"263\" y=\"-98.8\" font-family=\"Times,serif\" font-size=\"14.00\">*</text>\n</g>\n<!-- 135300420888240&#45;&gt;135300420890880* -->\n<g id=\"edge14\" class=\"edge\">\n<title>135300420888240&#45;&gt;135300420890880*</title>\n<path fill=\"none\" stroke=\"black\" d=\"M198.37,-102.5C208.05,-102.5 217.4,-102.5 225.8,-102.5\"/>\n<polygon fill=\"black\" stroke=\"black\" points=\"225.91,-106 235.91,-102.5 225.91,-99 225.91,-106\"/>\n</g>\n<!-- 135300420893904 -->\n<g id=\"node9\" class=\"node\">\n<title>135300420893904</title>\n<polygon fill=\"none\" stroke=\"black\" points=\"2225,-27.5 2225,-63.5 2407,-63.5 2407,-27.5 2225,-27.5\"/>\n<text text-anchor=\"middle\" x=\"2235\" y=\"-41.8\" font-family=\"Times,serif\" font-size=\"14.00\"> </text>\n<polyline fill=\"none\" stroke=\"black\" points=\"2245,-27.5 2245,-63.5 \"/>\n<text text-anchor=\"middle\" x=\"2285\" y=\"-41.8\" font-family=\"Times,serif\" font-size=\"14.00\">data 4.8284</text>\n<polyline fill=\"none\" stroke=\"black\" points=\"2325,-27.5 2325,-63.5 \"/>\n<text text-anchor=\"middle\" x=\"2366\" y=\"-41.8\" font-family=\"Times,serif\" font-size=\"14.00\">grad 0.1464</text>\n</g>\n<!-- 135300420885360* -->\n<g id=\"node22\" class=\"node\">\n<title>135300420885360*</title>\n<ellipse fill=\"none\" stroke=\"black\" cx=\"2688\" cy=\"-72.5\" rx=\"27\" ry=\"18\"/>\n<text text-anchor=\"middle\" x=\"2688\" y=\"-68.8\" font-family=\"Times,serif\" font-size=\"14.00\">*</text>\n</g>\n<!-- 135300420893904&#45;&gt;135300420885360* -->\n<g id=\"edge20\" class=\"edge\">\n<title>135300420893904&#45;&gt;135300420885360*</title>\n<path fill=\"none\" stroke=\"black\" d=\"M2407.04,-52.07C2485.41,-57.79 2594.98,-65.79 2650.96,-69.87\"/>\n<polygon fill=\"black\" stroke=\"black\" points=\"2650.87,-73.37 2661.1,-70.61 2651.38,-66.39 2650.87,-73.37\"/>\n</g>\n<!-- 135300420893904+&#45;&gt;135300420893904 -->\n<g id=\"edge3\" class=\"edge\">\n<title>135300420893904+&#45;&gt;135300420893904</title>\n<path fill=\"none\" stroke=\"black\" d=\"M1967,-45.5C2017.46,-45.5 2131.06,-45.5 2214.81,-45.5\"/>\n<polygon fill=\"black\" stroke=\"black\" points=\"2214.87,-49 2224.87,-45.5 2214.87,-42 2214.87,-49\"/>\n</g>\n<!-- 135300420884688 -->\n<g id=\"node11\" class=\"node\">\n<title>135300420884688</title>\n<polygon fill=\"none\" stroke=\"black\" points=\"1691,-55.5 1691,-91.5 1876,-91.5 1876,-55.5 1691,-55.5\"/>\n<text text-anchor=\"middle\" x=\"1702.5\" y=\"-69.8\" font-family=\"Times,serif\" font-size=\"14.00\">e</text>\n<polyline fill=\"none\" stroke=\"black\" points=\"1714,-55.5 1714,-91.5 \"/>\n<text text-anchor=\"middle\" x=\"1754\" y=\"-69.8\" font-family=\"Times,serif\" font-size=\"14.00\">data 5.8284</text>\n<polyline fill=\"none\" stroke=\"black\" points=\"1794,-55.5 1794,-91.5 \"/>\n<text text-anchor=\"middle\" x=\"1835\" y=\"-69.8\" font-family=\"Times,serif\" font-size=\"14.00\">grad 0.0429</text>\n</g>\n<!-- 135300420884688&#45;&gt;135300420881472+ -->\n<g id=\"edge19\" class=\"edge\">\n<title>135300420884688&#45;&gt;135300420881472+</title>\n<path fill=\"none\" stroke=\"black\" d=\"M1876.16,-89.52C1885.84,-91.21 1895.22,-92.85 1903.64,-94.32\"/>\n<polygon fill=\"black\" stroke=\"black\" points=\"1903.29,-97.81 1913.75,-96.09 1904.5,-90.92 1903.29,-97.81\"/>\n</g>\n<!-- 135300420884688&#45;&gt;135300420893904+ -->\n<g id=\"edge23\" class=\"edge\">\n<title>135300420884688&#45;&gt;135300420893904+</title>\n<path fill=\"none\" stroke=\"black\" d=\"M1876.16,-56.89C1885.84,-55.13 1895.22,-53.43 1903.64,-51.91\"/>\n<polygon fill=\"black\" stroke=\"black\" points=\"1904.53,-55.3 1913.75,-50.08 1903.28,-48.42 1904.53,-55.3\"/>\n</g>\n<!-- 135300420884688exp -->\n<g id=\"node12\" class=\"node\">\n<title>135300420884688exp</title>\n<ellipse fill=\"none\" stroke=\"black\" cx=\"1627\" cy=\"-73.5\" rx=\"27\" ry=\"18\"/>\n<text text-anchor=\"middle\" x=\"1627\" y=\"-69.8\" font-family=\"Times,serif\" font-size=\"14.00\">exp</text>\n</g>\n<!-- 135300420884688exp&#45;&gt;135300420884688 -->\n<g id=\"edge4\" class=\"edge\">\n<title>135300420884688exp&#45;&gt;135300420884688</title>\n<path fill=\"none\" stroke=\"black\" d=\"M1654.21,-73.5C1662,-73.5 1671.05,-73.5 1680.67,-73.5\"/>\n<polygon fill=\"black\" stroke=\"black\" points=\"1680.87,-77 1690.87,-73.5 1680.87,-70 1680.87,-77\"/>\n</g>\n<!-- 135300420886224 -->\n<g id=\"node13\" class=\"node\">\n<title>135300420886224</title>\n<polygon fill=\"none\" stroke=\"black\" points=\"4,-139.5 4,-175.5 196,-175.5 196,-139.5 4,-139.5\"/>\n<text text-anchor=\"middle\" x=\"19\" y=\"-153.8\" font-family=\"Times,serif\" font-size=\"14.00\">x2</text>\n<polyline fill=\"none\" stroke=\"black\" points=\"34,-139.5 34,-175.5 \"/>\n<text text-anchor=\"middle\" x=\"74\" y=\"-153.8\" font-family=\"Times,serif\" font-size=\"14.00\">data 0.0000</text>\n<polyline fill=\"none\" stroke=\"black\" points=\"114,-139.5 114,-175.5 \"/>\n<text text-anchor=\"middle\" x=\"155\" y=\"-153.8\" font-family=\"Times,serif\" font-size=\"14.00\">grad 0.5000</text>\n</g>\n<!-- 135300420886224&#45;&gt;135300420883344* -->\n<g id=\"edge28\" class=\"edge\">\n<title>135300420886224&#45;&gt;135300420883344*</title>\n<path fill=\"none\" stroke=\"black\" d=\"M196.05,-157.5C206.52,-157.5 216.65,-157.5 225.71,-157.5\"/>\n<polygon fill=\"black\" stroke=\"black\" points=\"225.79,-161 235.79,-157.5 225.79,-154 225.79,-161\"/>\n</g>\n<!-- 135300420890880 -->\n<g id=\"node14\" class=\"node\">\n<title>135300420890880</title>\n<polygon fill=\"none\" stroke=\"black\" points=\"326,-84.5 326,-120.5 546,-120.5 546,-84.5 326,-84.5\"/>\n<text text-anchor=\"middle\" x=\"352.5\" y=\"-98.8\" font-family=\"Times,serif\" font-size=\"14.00\">x1*w1</text>\n<polyline fill=\"none\" stroke=\"black\" points=\"379,-84.5 379,-120.5 \"/>\n<text text-anchor=\"middle\" x=\"421.5\" y=\"-98.8\" font-family=\"Times,serif\" font-size=\"14.00\">data &#45;6.0000</text>\n<polyline fill=\"none\" stroke=\"black\" points=\"464,-84.5 464,-120.5 \"/>\n<text text-anchor=\"middle\" x=\"505\" y=\"-98.8\" font-family=\"Times,serif\" font-size=\"14.00\">grad 0.5000</text>\n</g>\n<!-- 135300420890880&#45;&gt;135300420892128+ -->\n<g id=\"edge24\" class=\"edge\">\n<title>135300420890880&#45;&gt;135300420892128+</title>\n<path fill=\"none\" stroke=\"black\" d=\"M546.27,-119.75C555.64,-121.23 564.6,-122.65 572.65,-123.92\"/>\n<polygon fill=\"black\" stroke=\"black\" points=\"572.23,-127.4 582.65,-125.5 573.32,-120.48 572.23,-127.4\"/>\n</g>\n<!-- 135300420890880*&#45;&gt;135300420890880 -->\n<g id=\"edge5\" class=\"edge\">\n<title>135300420890880*&#45;&gt;135300420890880</title>\n<path fill=\"none\" stroke=\"black\" d=\"M290.34,-102.5C297.77,-102.5 306.37,-102.5 315.6,-102.5\"/>\n<polygon fill=\"black\" stroke=\"black\" points=\"315.84,-106 325.84,-102.5 315.84,-99 315.84,-106\"/>\n</g>\n<!-- 135300420883680 -->\n<g id=\"node16\" class=\"node\">\n<title>135300420883680</title>\n<polygon fill=\"none\" stroke=\"black\" points=\"2443,-80.5 2443,-116.5 2625,-116.5 2625,-80.5 2443,-80.5\"/>\n<text text-anchor=\"middle\" x=\"2453\" y=\"-94.8\" font-family=\"Times,serif\" font-size=\"14.00\"> </text>\n<polyline fill=\"none\" stroke=\"black\" points=\"2463,-80.5 2463,-116.5 \"/>\n<text text-anchor=\"middle\" x=\"2503\" y=\"-94.8\" font-family=\"Times,serif\" font-size=\"14.00\">data 0.1464</text>\n<polyline fill=\"none\" stroke=\"black\" points=\"2543,-80.5 2543,-116.5 \"/>\n<text text-anchor=\"middle\" x=\"2584\" y=\"-94.8\" font-family=\"Times,serif\" font-size=\"14.00\">grad 4.8284</text>\n</g>\n<!-- 135300420883680&#45;&gt;135300420885360* -->\n<g id=\"edge22\" class=\"edge\">\n<title>135300420883680&#45;&gt;135300420885360*</title>\n<path fill=\"none\" stroke=\"black\" d=\"M2625.18,-83.08C2634.42,-81.49 2643.38,-79.96 2651.47,-78.58\"/>\n<polygon fill=\"black\" stroke=\"black\" points=\"2652.29,-81.99 2661.56,-76.85 2651.11,-75.09 2652.29,-81.99\"/>\n</g>\n<!-- 135300420883680**&#45;1&#45;&gt;135300420883680 -->\n<g id=\"edge6\" class=\"edge\">\n<title>135300420883680**&#45;1&#45;&gt;135300420883680</title>\n<path fill=\"none\" stroke=\"black\" d=\"M2343.05,-100.26C2365.53,-100.05 2399.48,-99.74 2432.5,-99.43\"/>\n<polygon fill=\"black\" stroke=\"black\" points=\"2432.74,-102.93 2442.7,-99.34 2432.67,-95.93 2432.74,-102.93\"/>\n</g>\n<!-- 135300420892464 -->\n<g id=\"node18\" class=\"node\">\n<title>135300420892464</title>\n<polygon fill=\"none\" stroke=\"black\" points=\"1382,-55.5 1382,-91.5 1564,-91.5 1564,-55.5 1382,-55.5\"/>\n<text text-anchor=\"middle\" x=\"1392\" y=\"-69.8\" font-family=\"Times,serif\" font-size=\"14.00\"> </text>\n<polyline fill=\"none\" stroke=\"black\" points=\"1402,-55.5 1402,-91.5 \"/>\n<text text-anchor=\"middle\" x=\"1442\" y=\"-69.8\" font-family=\"Times,serif\" font-size=\"14.00\">data 1.7627</text>\n<polyline fill=\"none\" stroke=\"black\" points=\"1482,-55.5 1482,-91.5 \"/>\n<text text-anchor=\"middle\" x=\"1523\" y=\"-69.8\" font-family=\"Times,serif\" font-size=\"14.00\">grad 0.2500</text>\n</g>\n<!-- 135300420892464&#45;&gt;135300420884688exp -->\n<g id=\"edge18\" class=\"edge\">\n<title>135300420892464&#45;&gt;135300420884688exp</title>\n<path fill=\"none\" stroke=\"black\" d=\"M1564.18,-73.5C1573.14,-73.5 1581.83,-73.5 1589.73,-73.5\"/>\n<polygon fill=\"black\" stroke=\"black\" points=\"1589.96,-77 1599.96,-73.5 1589.96,-70 1589.96,-77\"/>\n</g>\n<!-- 135300420892464* -->\n<g id=\"node19\" class=\"node\">\n<title>135300420892464*</title>\n<ellipse fill=\"none\" stroke=\"black\" cx=\"1319\" cy=\"-73.5\" rx=\"27\" ry=\"18\"/>\n<text text-anchor=\"middle\" x=\"1319\" y=\"-69.8\" font-family=\"Times,serif\" font-size=\"14.00\">*</text>\n</g>\n<!-- 135300420892464*&#45;&gt;135300420892464 -->\n<g id=\"edge7\" class=\"edge\">\n<title>135300420892464*&#45;&gt;135300420892464</title>\n<path fill=\"none\" stroke=\"black\" d=\"M1346.13,-73.5C1353.67,-73.5 1362.39,-73.5 1371.64,-73.5\"/>\n<polygon fill=\"black\" stroke=\"black\" points=\"1371.87,-77 1381.87,-73.5 1371.87,-70 1371.87,-77\"/>\n</g>\n<!-- 135300420883776 -->\n<g id=\"node20\" class=\"node\">\n<title>135300420883776</title>\n<polygon fill=\"none\" stroke=\"black\" points=\"716,-56.5 716,-92.5 901,-92.5 901,-56.5 716,-56.5\"/>\n<text text-anchor=\"middle\" x=\"727.5\" y=\"-70.8\" font-family=\"Times,serif\" font-size=\"14.00\">b</text>\n<polyline fill=\"none\" stroke=\"black\" points=\"739,-56.5 739,-92.5 \"/>\n<text text-anchor=\"middle\" x=\"779\" y=\"-70.8\" font-family=\"Times,serif\" font-size=\"14.00\">data 6.8814</text>\n<polyline fill=\"none\" stroke=\"black\" points=\"819,-56.5 819,-92.5 \"/>\n<text text-anchor=\"middle\" x=\"860\" y=\"-70.8\" font-family=\"Times,serif\" font-size=\"14.00\">grad 0.5000</text>\n</g>\n<!-- 135300420886416+ -->\n<g id=\"node24\" class=\"node\">\n<title>135300420886416+</title>\n<ellipse fill=\"none\" stroke=\"black\" cx=\"1008\" cy=\"-101.5\" rx=\"27\" ry=\"18\"/>\n<text text-anchor=\"middle\" x=\"1008\" y=\"-97.8\" font-family=\"Times,serif\" font-size=\"14.00\">+</text>\n</g>\n<!-- 135300420883776&#45;&gt;135300420886416+ -->\n<g id=\"edge11\" class=\"edge\">\n<title>135300420883776&#45;&gt;135300420886416+</title>\n<path fill=\"none\" stroke=\"black\" d=\"M901.02,-87.01C926,-90.43 951.59,-93.93 971.37,-96.63\"/>\n<polygon fill=\"black\" stroke=\"black\" points=\"971.05,-100.12 981.43,-98.01 972,-93.18 971.05,-100.12\"/>\n</g>\n<!-- 135300420885360 -->\n<g id=\"node21\" class=\"node\">\n<title>135300420885360</title>\n<polygon fill=\"none\" stroke=\"black\" points=\"2751,-54.5 2751,-90.5 2936,-90.5 2936,-54.5 2751,-54.5\"/>\n<text text-anchor=\"middle\" x=\"2762.5\" y=\"-68.8\" font-family=\"Times,serif\" font-size=\"14.00\">o</text>\n<polyline fill=\"none\" stroke=\"black\" points=\"2774,-54.5 2774,-90.5 \"/>\n<text text-anchor=\"middle\" x=\"2814\" y=\"-68.8\" font-family=\"Times,serif\" font-size=\"14.00\">data 0.7071</text>\n<polyline fill=\"none\" stroke=\"black\" points=\"2854,-54.5 2854,-90.5 \"/>\n<text text-anchor=\"middle\" x=\"2895\" y=\"-68.8\" font-family=\"Times,serif\" font-size=\"14.00\">grad 1.0000</text>\n</g>\n<!-- 135300420885360*&#45;&gt;135300420885360 -->\n<g id=\"edge8\" class=\"edge\">\n<title>135300420885360*&#45;&gt;135300420885360</title>\n<path fill=\"none\" stroke=\"black\" d=\"M2715.04,-72.5C2722.58,-72.5 2731.3,-72.5 2740.57,-72.5\"/>\n<polygon fill=\"black\" stroke=\"black\" points=\"2740.81,-76 2750.81,-72.5 2740.81,-69 2740.81,-76\"/>\n</g>\n<!-- 135300420886416 -->\n<g id=\"node23\" class=\"node\">\n<title>135300420886416</title>\n<polygon fill=\"none\" stroke=\"black\" points=\"1071,-83.5 1071,-119.5 1256,-119.5 1256,-83.5 1071,-83.5\"/>\n<text text-anchor=\"middle\" x=\"1082.5\" y=\"-97.8\" font-family=\"Times,serif\" font-size=\"14.00\">n</text>\n<polyline fill=\"none\" stroke=\"black\" points=\"1094,-83.5 1094,-119.5 \"/>\n<text text-anchor=\"middle\" x=\"1134\" y=\"-97.8\" font-family=\"Times,serif\" font-size=\"14.00\">data 0.8814</text>\n<polyline fill=\"none\" stroke=\"black\" points=\"1174,-83.5 1174,-119.5 \"/>\n<text text-anchor=\"middle\" x=\"1215\" y=\"-97.8\" font-family=\"Times,serif\" font-size=\"14.00\">grad 0.5000</text>\n</g>\n<!-- 135300420886416&#45;&gt;135300420892464* -->\n<g id=\"edge21\" class=\"edge\">\n<title>135300420886416&#45;&gt;135300420892464*</title>\n<path fill=\"none\" stroke=\"black\" d=\"M1256.01,-84.81C1265.49,-83.08 1274.66,-81.41 1282.9,-79.9\"/>\n<polygon fill=\"black\" stroke=\"black\" points=\"1283.6,-83.33 1292.81,-78.09 1282.35,-76.45 1283.6,-83.33\"/>\n</g>\n<!-- 135300420886416+&#45;&gt;135300420886416 -->\n<g id=\"edge9\" class=\"edge\">\n<title>135300420886416+&#45;&gt;135300420886416</title>\n<path fill=\"none\" stroke=\"black\" d=\"M1035.04,-101.5C1042.58,-101.5 1051.3,-101.5 1060.57,-101.5\"/>\n<polygon fill=\"black\" stroke=\"black\" points=\"1060.81,-105 1070.81,-101.5 1060.81,-98 1060.81,-105\"/>\n</g>\n<!-- 135300420881856 -->\n<g id=\"node25\" class=\"node\">\n<title>135300420881856</title>\n<polygon fill=\"none\" stroke=\"black\" points=\"1072.5,-28.5 1072.5,-64.5 1254.5,-64.5 1254.5,-28.5 1072.5,-28.5\"/>\n<text text-anchor=\"middle\" x=\"1082.5\" y=\"-42.8\" font-family=\"Times,serif\" font-size=\"14.00\"> </text>\n<polyline fill=\"none\" stroke=\"black\" points=\"1092.5,-28.5 1092.5,-64.5 \"/>\n<text text-anchor=\"middle\" x=\"1132.5\" y=\"-42.8\" font-family=\"Times,serif\" font-size=\"14.00\">data 2.0000</text>\n<polyline fill=\"none\" stroke=\"black\" points=\"1172.5,-28.5 1172.5,-64.5 \"/>\n<text text-anchor=\"middle\" x=\"1213.5\" y=\"-42.8\" font-family=\"Times,serif\" font-size=\"14.00\">grad 0.2203</text>\n</g>\n<!-- 135300420881856&#45;&gt;135300420892464* -->\n<g id=\"edge13\" class=\"edge\">\n<title>135300420881856&#45;&gt;135300420892464*</title>\n<path fill=\"none\" stroke=\"black\" d=\"M1254.68,-62.36C1264.61,-64.11 1274.23,-65.8 1282.84,-67.32\"/>\n<polygon fill=\"black\" stroke=\"black\" points=\"1282.36,-70.78 1292.81,-69.07 1283.57,-63.89 1282.36,-70.78\"/>\n</g>\n<!-- 135300420892128 -->\n<g id=\"node26\" class=\"node\">\n<title>135300420892128</title>\n<polygon fill=\"none\" stroke=\"black\" points=\"672,-111.5 672,-147.5 945,-147.5 945,-111.5 672,-111.5\"/>\n<text text-anchor=\"middle\" x=\"725\" y=\"-125.8\" font-family=\"Times,serif\" font-size=\"14.00\">x1*w1 + x2*w2</text>\n<polyline fill=\"none\" stroke=\"black\" points=\"778,-111.5 778,-147.5 \"/>\n<text text-anchor=\"middle\" x=\"820.5\" y=\"-125.8\" font-family=\"Times,serif\" font-size=\"14.00\">data &#45;6.0000</text>\n<polyline fill=\"none\" stroke=\"black\" points=\"863,-111.5 863,-147.5 \"/>\n<text text-anchor=\"middle\" x=\"904\" y=\"-125.8\" font-family=\"Times,serif\" font-size=\"14.00\">grad 0.5000</text>\n</g>\n<!-- 135300420892128&#45;&gt;135300420886416+ -->\n<g id=\"edge25\" class=\"edge\">\n<title>135300420892128&#45;&gt;135300420886416+</title>\n<path fill=\"none\" stroke=\"black\" d=\"M936.53,-111.49C949.09,-109.71 960.99,-108.02 971.3,-106.56\"/>\n<polygon fill=\"black\" stroke=\"black\" points=\"972.03,-109.99 981.44,-105.12 971.05,-103.06 972.03,-109.99\"/>\n</g>\n<!-- 135300420892128+&#45;&gt;135300420892128 -->\n<g id=\"edge10\" class=\"edge\">\n<title>135300420892128+&#45;&gt;135300420892128</title>\n<path fill=\"none\" stroke=\"black\" d=\"M636.23,-129.5C643.7,-129.5 652.41,-129.5 661.87,-129.5\"/>\n<polygon fill=\"black\" stroke=\"black\" points=\"661.98,-133 671.98,-129.5 661.98,-126 661.98,-133\"/>\n</g>\n<!-- 135300420888048 -->\n<g id=\"node28\" class=\"node\">\n<title>135300420888048</title>\n<polygon fill=\"none\" stroke=\"black\" points=\"0,-29.5 0,-65.5 200,-65.5 200,-29.5 0,-29.5\"/>\n<text text-anchor=\"middle\" x=\"16.5\" y=\"-43.8\" font-family=\"Times,serif\" font-size=\"14.00\">w1</text>\n<polyline fill=\"none\" stroke=\"black\" points=\"33,-29.5 33,-65.5 \"/>\n<text text-anchor=\"middle\" x=\"75.5\" y=\"-43.8\" font-family=\"Times,serif\" font-size=\"14.00\">data &#45;3.0000</text>\n<polyline fill=\"none\" stroke=\"black\" points=\"118,-29.5 118,-65.5 \"/>\n<text text-anchor=\"middle\" x=\"159\" y=\"-43.8\" font-family=\"Times,serif\" font-size=\"14.00\">grad 1.0000</text>\n</g>\n<!-- 135300420888048&#45;&gt;135300420890880* -->\n<g id=\"edge12\" class=\"edge\">\n<title>135300420888048&#45;&gt;135300420890880*</title>\n<path fill=\"none\" stroke=\"black\" d=\"M169.28,-65.5C179.65,-68.61 190.16,-71.98 200,-75.5 210.28,-79.17 221.28,-83.74 231.11,-88.07\"/>\n<polygon fill=\"black\" stroke=\"black\" points=\"229.93,-91.37 240.48,-92.27 232.79,-84.99 229.93,-91.37\"/>\n</g>\n</g>\n</svg>\n",
            "text/plain": [
              "<graphviz.graphs.Digraph at 0x7b0e15865f30>"
            ]
          },
          "metadata": {},
          "execution_count": 19
        }
      ]
    },
    {
      "cell_type": "code",
      "source": [
        "#o.grad=1.0\n",
        "o.backward()\n"
      ],
      "metadata": {
        "id": "zt5_UQd4G6d-"
      },
      "execution_count": null,
      "outputs": []
    },
    {
      "cell_type": "code",
      "source": [
        "n._backward()"
      ],
      "metadata": {
        "id": "NbtQLa3vHFrX"
      },
      "execution_count": null,
      "outputs": []
    },
    {
      "cell_type": "code",
      "source": [
        "x1w1x2w2._backward()"
      ],
      "metadata": {
        "id": "_qh6wVzFHRS9"
      },
      "execution_count": null,
      "outputs": []
    },
    {
      "cell_type": "code",
      "source": [
        "x1w1._backward()\n",
        "x2w2._backward()"
      ],
      "metadata": {
        "id": "sM-q1wSsHY2m"
      },
      "execution_count": null,
      "outputs": []
    },
    {
      "cell_type": "code",
      "source": [
        "x2.grad=0.5\n",
        "x1.grad=-1.5\n",
        "w1.grad=0.5*2.0"
      ],
      "metadata": {
        "id": "Tx7Y4qg6EcGg"
      },
      "execution_count": null,
      "outputs": []
    },
    {
      "cell_type": "code",
      "source": [
        "o.grad=1.0\n",
        "n.grad=0.5\n",
        "x1w1x2w2.grad=0.5\n",
        "b.grad=0.5\n",
        "x1w1.grad=0.5\n",
        "x2w2.grad=0.5\n",
        "\n"
      ],
      "metadata": {
        "id": "HPjOiAdI0KFg"
      },
      "execution_count": null,
      "outputs": []
    },
    {
      "cell_type": "code",
      "source": [
        "a = Value(3.0, label='a')\n",
        "b = a + a   ; b.label = 'b'\n",
        "b.backward()\n",
        "draw_dot(b)"
      ],
      "metadata": {
        "colab": {
          "base_uri": "https://localhost:8080/",
          "height": 81
        },
        "id": "5p627mMcK3Or",
        "outputId": "ff7dda72-9bfd-40cb-f8dd-faf246d358d4"
      },
      "execution_count": null,
      "outputs": [
        {
          "output_type": "execute_result",
          "data": {
            "image/svg+xml": "<?xml version=\"1.0\" encoding=\"UTF-8\" standalone=\"no\"?>\n<!DOCTYPE svg PUBLIC \"-//W3C//DTD SVG 1.1//EN\"\n \"http://www.w3.org/Graphics/SVG/1.1/DTD/svg11.dtd\">\n<!-- Generated by graphviz version 2.43.0 (0)\n -->\n<!-- Title: %3 Pages: 1 -->\n<svg width=\"504pt\" height=\"45pt\"\n viewBox=\"0.00 0.00 504.00 45.00\" xmlns=\"http://www.w3.org/2000/svg\" xmlns:xlink=\"http://www.w3.org/1999/xlink\">\n<g id=\"graph0\" class=\"graph\" transform=\"scale(1 1) rotate(0) translate(4 41)\">\n<title>%3</title>\n<polygon fill=\"white\" stroke=\"transparent\" points=\"-4,4 -4,-41 500,-41 500,4 -4,4\"/>\n<!-- 135301309229872 -->\n<g id=\"node1\" class=\"node\">\n<title>135301309229872</title>\n<polygon fill=\"none\" stroke=\"black\" points=\"0,-0.5 0,-36.5 185,-36.5 185,-0.5 0,-0.5\"/>\n<text text-anchor=\"middle\" x=\"11.5\" y=\"-14.8\" font-family=\"Times,serif\" font-size=\"14.00\">a</text>\n<polyline fill=\"none\" stroke=\"black\" points=\"23,-0.5 23,-36.5 \"/>\n<text text-anchor=\"middle\" x=\"63\" y=\"-14.8\" font-family=\"Times,serif\" font-size=\"14.00\">data 3.0000</text>\n<polyline fill=\"none\" stroke=\"black\" points=\"103,-0.5 103,-36.5 \"/>\n<text text-anchor=\"middle\" x=\"144\" y=\"-14.8\" font-family=\"Times,serif\" font-size=\"14.00\">grad 2.0000</text>\n</g>\n<!-- 135301309226704+ -->\n<g id=\"node3\" class=\"node\">\n<title>135301309226704+</title>\n<ellipse fill=\"none\" stroke=\"black\" cx=\"248\" cy=\"-18.5\" rx=\"27\" ry=\"18\"/>\n<text text-anchor=\"middle\" x=\"248\" y=\"-14.8\" font-family=\"Times,serif\" font-size=\"14.00\">+</text>\n</g>\n<!-- 135301309229872&#45;&gt;135301309226704+ -->\n<g id=\"edge2\" class=\"edge\">\n<title>135301309229872&#45;&gt;135301309226704+</title>\n<path fill=\"none\" stroke=\"black\" d=\"M185.01,-18.5C194.01,-18.5 202.74,-18.5 210.66,-18.5\"/>\n<polygon fill=\"black\" stroke=\"black\" points=\"210.91,-22 220.91,-18.5 210.91,-15 210.91,-22\"/>\n</g>\n<!-- 135301309226704 -->\n<g id=\"node2\" class=\"node\">\n<title>135301309226704</title>\n<polygon fill=\"none\" stroke=\"black\" points=\"311,-0.5 311,-36.5 496,-36.5 496,-0.5 311,-0.5\"/>\n<text text-anchor=\"middle\" x=\"322.5\" y=\"-14.8\" font-family=\"Times,serif\" font-size=\"14.00\">b</text>\n<polyline fill=\"none\" stroke=\"black\" points=\"334,-0.5 334,-36.5 \"/>\n<text text-anchor=\"middle\" x=\"374\" y=\"-14.8\" font-family=\"Times,serif\" font-size=\"14.00\">data 6.0000</text>\n<polyline fill=\"none\" stroke=\"black\" points=\"414,-0.5 414,-36.5 \"/>\n<text text-anchor=\"middle\" x=\"455\" y=\"-14.8\" font-family=\"Times,serif\" font-size=\"14.00\">grad 1.0000</text>\n</g>\n<!-- 135301309226704+&#45;&gt;135301309226704 -->\n<g id=\"edge1\" class=\"edge\">\n<title>135301309226704+&#45;&gt;135301309226704</title>\n<path fill=\"none\" stroke=\"black\" d=\"M275.04,-18.5C282.58,-18.5 291.3,-18.5 300.57,-18.5\"/>\n<polygon fill=\"black\" stroke=\"black\" points=\"300.81,-22 310.81,-18.5 300.81,-15 300.81,-22\"/>\n</g>\n</g>\n</svg>\n",
            "text/plain": [
              "<graphviz.graphs.Digraph at 0x7b0e4a796b90>"
            ]
          },
          "metadata": {},
          "execution_count": 5
        }
      ]
    },
    {
      "cell_type": "code",
      "source": [
        "c=b/a\n",
        "draw_dot(c)\n",
        "#c.backward()"
      ],
      "metadata": {
        "colab": {
          "base_uri": "https://localhost:8080/",
          "height": 174
        },
        "id": "v6Ez77O6NIOE",
        "outputId": "b6aae39f-e054-4d8f-dc3a-666bc1864c19"
      },
      "execution_count": null,
      "outputs": [
        {
          "output_type": "execute_result",
          "data": {
            "image/svg+xml": "<?xml version=\"1.0\" encoding=\"UTF-8\" standalone=\"no\"?>\n<!DOCTYPE svg PUBLIC \"-//W3C//DTD SVG 1.1//EN\"\n \"http://www.w3.org/Graphics/SVG/1.1/DTD/svg11.dtd\">\n<!-- Generated by graphviz version 2.43.0 (0)\n -->\n<!-- Title: %3 Pages: 1 -->\n<svg width=\"812pt\" height=\"100pt\"\n viewBox=\"0.00 0.00 812.00 100.00\" xmlns=\"http://www.w3.org/2000/svg\" xmlns:xlink=\"http://www.w3.org/1999/xlink\">\n<g id=\"graph0\" class=\"graph\" transform=\"scale(1 1) rotate(0) translate(4 96)\">\n<title>%3</title>\n<polygon fill=\"white\" stroke=\"transparent\" points=\"-4,4 -4,-96 808,-96 808,4 -4,4\"/>\n<!-- 135301309226704 -->\n<g id=\"node1\" class=\"node\">\n<title>135301309226704</title>\n<polygon fill=\"none\" stroke=\"black\" points=\"311,-55.5 311,-91.5 496,-91.5 496,-55.5 311,-55.5\"/>\n<text text-anchor=\"middle\" x=\"322.5\" y=\"-69.8\" font-family=\"Times,serif\" font-size=\"14.00\">b</text>\n<polyline fill=\"none\" stroke=\"black\" points=\"334,-55.5 334,-91.5 \"/>\n<text text-anchor=\"middle\" x=\"374\" y=\"-69.8\" font-family=\"Times,serif\" font-size=\"14.00\">data 6.0000</text>\n<polyline fill=\"none\" stroke=\"black\" points=\"414,-55.5 414,-91.5 \"/>\n<text text-anchor=\"middle\" x=\"455\" y=\"-69.8\" font-family=\"Times,serif\" font-size=\"14.00\">grad 1.3333</text>\n</g>\n<!-- 135300411067456* -->\n<g id=\"node5\" class=\"node\">\n<title>135300411067456*</title>\n<ellipse fill=\"none\" stroke=\"black\" cx=\"559\" cy=\"-45.5\" rx=\"27\" ry=\"18\"/>\n<text text-anchor=\"middle\" x=\"559\" y=\"-41.8\" font-family=\"Times,serif\" font-size=\"14.00\">*</text>\n</g>\n<!-- 135301309226704&#45;&gt;135300411067456* -->\n<g id=\"edge4\" class=\"edge\">\n<title>135301309226704&#45;&gt;135300411067456*</title>\n<path fill=\"none\" stroke=\"black\" d=\"M496.01,-56.81C505.49,-55.08 514.66,-53.41 522.9,-51.9\"/>\n<polygon fill=\"black\" stroke=\"black\" points=\"523.6,-55.33 532.81,-50.09 522.35,-48.45 523.6,-55.33\"/>\n</g>\n<!-- 135301309226704+ -->\n<g id=\"node2\" class=\"node\">\n<title>135301309226704+</title>\n<ellipse fill=\"none\" stroke=\"black\" cx=\"248\" cy=\"-72.5\" rx=\"27\" ry=\"18\"/>\n<text text-anchor=\"middle\" x=\"248\" y=\"-68.8\" font-family=\"Times,serif\" font-size=\"14.00\">+</text>\n</g>\n<!-- 135301309226704+&#45;&gt;135301309226704 -->\n<g id=\"edge1\" class=\"edge\">\n<title>135301309226704+&#45;&gt;135301309226704</title>\n<path fill=\"none\" stroke=\"black\" d=\"M275.04,-72.67C282.58,-72.72 291.3,-72.78 300.57,-72.84\"/>\n<polygon fill=\"black\" stroke=\"black\" points=\"300.79,-76.34 310.81,-72.9 300.84,-69.34 300.79,-76.34\"/>\n</g>\n<!-- 135301309229872 -->\n<g id=\"node3\" class=\"node\">\n<title>135301309229872</title>\n<polygon fill=\"none\" stroke=\"black\" points=\"0,-27.5 0,-63.5 185,-63.5 185,-27.5 0,-27.5\"/>\n<text text-anchor=\"middle\" x=\"11.5\" y=\"-41.8\" font-family=\"Times,serif\" font-size=\"14.00\">a</text>\n<polyline fill=\"none\" stroke=\"black\" points=\"23,-27.5 23,-63.5 \"/>\n<text text-anchor=\"middle\" x=\"63\" y=\"-41.8\" font-family=\"Times,serif\" font-size=\"14.00\">data 3.0000</text>\n<polyline fill=\"none\" stroke=\"black\" points=\"103,-27.5 103,-63.5 \"/>\n<text text-anchor=\"middle\" x=\"144\" y=\"-41.8\" font-family=\"Times,serif\" font-size=\"14.00\">grad 4.0000</text>\n</g>\n<!-- 135301309229872&#45;&gt;135301309226704+ -->\n<g id=\"edge7\" class=\"edge\">\n<title>135301309229872&#45;&gt;135301309226704+</title>\n<path fill=\"none\" stroke=\"black\" d=\"M185.01,-61.6C194.49,-63.26 203.66,-64.88 211.9,-66.33\"/>\n<polygon fill=\"black\" stroke=\"black\" points=\"211.36,-69.78 221.81,-68.07 212.57,-62.89 211.36,-69.78\"/>\n</g>\n<!-- 135300411064528**&#45;1 -->\n<g id=\"node7\" class=\"node\">\n<title>135300411064528**&#45;1</title>\n<ellipse fill=\"none\" stroke=\"black\" cx=\"248\" cy=\"-18.5\" rx=\"27\" ry=\"18\"/>\n<text text-anchor=\"middle\" x=\"248\" y=\"-14.8\" font-family=\"Times,serif\" font-size=\"14.00\">**&#45;1</text>\n</g>\n<!-- 135301309229872&#45;&gt;135300411064528**&#45;1 -->\n<g id=\"edge6\" class=\"edge\">\n<title>135301309229872&#45;&gt;135300411064528**&#45;1</title>\n<path fill=\"none\" stroke=\"black\" d=\"M185.01,-29.4C194.49,-27.74 203.66,-26.12 211.9,-24.67\"/>\n<polygon fill=\"black\" stroke=\"black\" points=\"212.57,-28.11 221.81,-22.93 211.36,-21.22 212.57,-28.11\"/>\n</g>\n<!-- 135300411067456 -->\n<g id=\"node4\" class=\"node\">\n<title>135300411067456</title>\n<polygon fill=\"none\" stroke=\"black\" points=\"622,-27.5 622,-63.5 804,-63.5 804,-27.5 622,-27.5\"/>\n<text text-anchor=\"middle\" x=\"632\" y=\"-41.8\" font-family=\"Times,serif\" font-size=\"14.00\"> </text>\n<polyline fill=\"none\" stroke=\"black\" points=\"642,-27.5 642,-63.5 \"/>\n<text text-anchor=\"middle\" x=\"682\" y=\"-41.8\" font-family=\"Times,serif\" font-size=\"14.00\">data 2.0000</text>\n<polyline fill=\"none\" stroke=\"black\" points=\"722,-27.5 722,-63.5 \"/>\n<text text-anchor=\"middle\" x=\"763\" y=\"-41.8\" font-family=\"Times,serif\" font-size=\"14.00\">grad 0.0000</text>\n</g>\n<!-- 135300411067456*&#45;&gt;135300411067456 -->\n<g id=\"edge2\" class=\"edge\">\n<title>135300411067456*&#45;&gt;135300411067456</title>\n<path fill=\"none\" stroke=\"black\" d=\"M586.13,-45.5C593.67,-45.5 602.39,-45.5 611.64,-45.5\"/>\n<polygon fill=\"black\" stroke=\"black\" points=\"611.87,-49 621.87,-45.5 611.87,-42 611.87,-49\"/>\n</g>\n<!-- 135300411064528 -->\n<g id=\"node6\" class=\"node\">\n<title>135300411064528</title>\n<polygon fill=\"none\" stroke=\"black\" points=\"312.5,-0.5 312.5,-36.5 494.5,-36.5 494.5,-0.5 312.5,-0.5\"/>\n<text text-anchor=\"middle\" x=\"322.5\" y=\"-14.8\" font-family=\"Times,serif\" font-size=\"14.00\"> </text>\n<polyline fill=\"none\" stroke=\"black\" points=\"332.5,-0.5 332.5,-36.5 \"/>\n<text text-anchor=\"middle\" x=\"372.5\" y=\"-14.8\" font-family=\"Times,serif\" font-size=\"14.00\">data 0.3333</text>\n<polyline fill=\"none\" stroke=\"black\" points=\"412.5,-0.5 412.5,-36.5 \"/>\n<text text-anchor=\"middle\" x=\"453.5\" y=\"-14.8\" font-family=\"Times,serif\" font-size=\"14.00\">grad 0.0000</text>\n</g>\n<!-- 135300411064528&#45;&gt;135300411067456* -->\n<g id=\"edge5\" class=\"edge\">\n<title>135300411064528&#45;&gt;135300411067456*</title>\n<path fill=\"none\" stroke=\"black\" d=\"M494.68,-34.36C504.61,-36.11 514.23,-37.8 522.84,-39.32\"/>\n<polygon fill=\"black\" stroke=\"black\" points=\"522.36,-42.78 532.81,-41.07 523.57,-35.89 522.36,-42.78\"/>\n</g>\n<!-- 135300411064528**&#45;1&#45;&gt;135300411064528 -->\n<g id=\"edge3\" class=\"edge\">\n<title>135300411064528**&#45;1&#45;&gt;135300411064528</title>\n<path fill=\"none\" stroke=\"black\" d=\"M275.04,-18.5C283.06,-18.5 292.41,-18.5 302.35,-18.5\"/>\n<polygon fill=\"black\" stroke=\"black\" points=\"302.45,-22 312.45,-18.5 302.45,-15 302.45,-22\"/>\n</g>\n</g>\n</svg>\n",
            "text/plain": [
              "<graphviz.graphs.Digraph at 0x7b0e14f0a290>"
            ]
          },
          "metadata": {},
          "execution_count": 12
        }
      ]
    },
    {
      "cell_type": "code",
      "source": [
        "import torch\n"
      ],
      "metadata": {
        "id": "_WSSTCcdPlCP"
      },
      "execution_count": null,
      "outputs": []
    },
    {
      "cell_type": "code",
      "source": [
        "x1 = torch.Tensor([2.0]).double()                ; x1.requires_grad = True\n",
        "x2 = torch.Tensor([0.0]).double()                ; x2.requires_grad = True\n",
        "w1 = torch.Tensor([-3.0]).double()               ; w1.requires_grad = True\n",
        "w2 = torch.Tensor([1.0]).double()                ; w2.requires_grad = True\n",
        "b = torch.Tensor([6.8813735870195432]).double()  ; b.requires_grad = True\n",
        "n = x1*w1 + x2*w2 + b\n",
        "o = torch.tanh(n)\n",
        "\n",
        "print(o.data.item())\n",
        "o.backward()\n",
        "\n",
        "print('---')\n",
        "print('x2', x2.grad.item())\n",
        "print('w2', w2.grad.item())\n",
        "print('x1', x1.grad.item())\n",
        "print('w1', w1.grad.item())"
      ],
      "metadata": {
        "colab": {
          "base_uri": "https://localhost:8080/"
        },
        "id": "Jq_kIWsYP34K",
        "outputId": "ad5a9902-503f-450d-e6d4-abb745aea140"
      },
      "execution_count": null,
      "outputs": [
        {
          "output_type": "stream",
          "name": "stdout",
          "text": [
            "0.7071066904050358\n",
            "---\n",
            "x2 0.5000001283844369\n",
            "w2 0.0\n",
            "x1 -1.5000003851533106\n",
            "w1 1.0000002567688737\n"
          ]
        }
      ]
    },
    {
      "cell_type": "code",
      "source": [
        "class Neuron:\n",
        "  def __init__(self,nin):\n",
        "    self.w=[Value(random.uniform(-1,1)) for _ in range(nin)]\n",
        "    self.b=Value(random.uniform(-1,1))\n",
        "  def __call__(self,x):\n",
        "    act=sum((wi*xi for wi,xi in zip(self.w,x)),self.b)\n",
        "    out=act.tanh()\n",
        "    return out\n",
        "  def parameters(self):\n",
        "    return self.w+[self.b]\n",
        "class Layer:\n",
        "  def __init__(self,nin,nout):\n",
        "    self.neurons=[Neuron(nin) for _ in range(nout)]\n",
        "\n",
        "  def __call__(self,x):\n",
        "    outs=[n(x) for n in self.neurons]\n",
        "    return outs[0] if len(outs)==1 else outs\n",
        "\n",
        "  def parameters(self):\n",
        "    return [p for neuron in self.neurons for p in neuron.parameters()]\n",
        "\n",
        "class MLP:\n",
        "  def __init__(self,nin,nouts):\n",
        "    sz=[nin]+nouts\n",
        "    self.layers=[Layer(sz[i],sz[i+1]) for i in range(len(nouts))]\n",
        "\n",
        "  def __call__(self,x):\n",
        "    for layer in self.layers:\n",
        "      x=layer(x)\n",
        "    return x\n",
        "  def parameters(self):\n",
        "    return [p for layer in self.layers for p in layer.parameters()]"
      ],
      "metadata": {
        "id": "Q-cXKIPAQiGx"
      },
      "execution_count": null,
      "outputs": []
    },
    {
      "cell_type": "code",
      "source": [
        "x = [2.0, 3.0, -1.0]\n",
        "n = MLP(3, [4, 4, 1])\n",
        "n(x)"
      ],
      "metadata": {
        "colab": {
          "base_uri": "https://localhost:8080/"
        },
        "id": "p2T3cQYSTTbw",
        "outputId": "fd16b9aa-e066-42f4-85d9-58fad6aecb84"
      },
      "execution_count": null,
      "outputs": [
        {
          "output_type": "execute_result",
          "data": {
            "text/plain": [
              "value (data=0.8618641243986558)"
            ]
          },
          "metadata": {},
          "execution_count": 50
        }
      ]
    },
    {
      "cell_type": "code",
      "source": [
        "xs = [\n",
        "  [2.0, 3.0, -1.0],\n",
        "  [3.0, -1.0, 0.5],\n",
        "  [0.5, 1.0, 1.0],\n",
        "  [1.0, 1.0, -1.0],\n",
        "]\n",
        "ys = [1.0, -1.0, -1.0, 1.0] # desired targets"
      ],
      "metadata": {
        "id": "W2YZ_hIBXVxa"
      },
      "execution_count": null,
      "outputs": []
    },
    {
      "cell_type": "code",
      "source": [
        "ypred=[n(x) for x in xs]\n",
        "ypred"
      ],
      "metadata": {
        "colab": {
          "base_uri": "https://localhost:8080/"
        },
        "id": "S1NbYymKXaDq",
        "outputId": "3ffef0eb-20f9-4de7-c7c1-f8af0545eed5"
      },
      "execution_count": null,
      "outputs": [
        {
          "output_type": "execute_result",
          "data": {
            "text/plain": [
              "[value (data=0.8618641243986558),\n",
              " value (data=0.2540774940746274),\n",
              " value (data=0.8868787050316919),\n",
              " value (data=0.8269419905047243)]"
            ]
          },
          "metadata": {},
          "execution_count": 53
        }
      ]
    },
    {
      "cell_type": "code",
      "source": [
        "loss=sum((yout-ygt)**2 for ygt,yout in  zip(ys,ypred))\n",
        "loss"
      ],
      "metadata": {
        "colab": {
          "base_uri": "https://localhost:8080/"
        },
        "id": "2cQbS5-eX121",
        "outputId": "d267e052-0d87-4fe1-f000-cc08722d582c"
      },
      "execution_count": null,
      "outputs": [
        {
          "output_type": "execute_result",
          "data": {
            "text/plain": [
              "value (data=5.182052203425189)"
            ]
          },
          "metadata": {},
          "execution_count": 54
        }
      ]
    },
    {
      "cell_type": "code",
      "source": [
        "for p in n.parameters():\n",
        "  p.data += -0.01*p.grad\n"
      ],
      "metadata": {
        "id": "gZuBi6sJbmqE"
      },
      "execution_count": null,
      "outputs": []
    },
    {
      "cell_type": "code",
      "source": [
        "for k in range(20):\n",
        "  #forward pass\n",
        "  ypred=[n(x) for x in xs]\n",
        "  loss=sum((yout-ygt)**2 for ygt,yout in  zip(ys,ypred))\n",
        "\n",
        "  #reset and backward pass\n",
        "  for p in n.parameters():\n",
        "    p.grad=0\n",
        "  loss.backward()\n",
        "\n",
        "  #update\n",
        "  for p in n.parameters():\n",
        "    p.data += -0.1*p.grad\n",
        "  print(f'Epoch {k+1}, Loss: {loss.data}')"
      ],
      "metadata": {
        "colab": {
          "base_uri": "https://localhost:8080/"
        },
        "id": "nwD8AOckdZjo",
        "outputId": "b1261cf3-5306-4220-c151-f9059722f694"
      },
      "execution_count": null,
      "outputs": [
        {
          "output_type": "stream",
          "name": "stdout",
          "text": [
            "Epoch 1, Loss: 0.02009117293351904\n",
            "Epoch 2, Loss: 0.018561953007945692\n",
            "Epoch 3, Loss: 0.017239067264533284\n",
            "Epoch 4, Loss: 0.016084402924408644\n",
            "Epoch 5, Loss: 0.015068554294550476\n",
            "Epoch 6, Loss: 0.014168493102995984\n",
            "Epoch 7, Loss: 0.013365944453945022\n",
            "Epoch 8, Loss: 0.012646231992377447\n",
            "Epoch 9, Loss: 0.011997442037043626\n",
            "Epoch 10, Loss: 0.011409808864997817\n",
            "Epoch 11, Loss: 0.010875256072251732\n",
            "Epoch 12, Loss: 0.01038704986754337\n",
            "Epoch 13, Loss: 0.00993953382349397\n",
            "Epoch 14, Loss: 0.009527923704930934\n",
            "Epoch 15, Loss: 0.00914814715327861\n",
            "Epoch 16, Loss: 0.008796717243552713\n",
            "Epoch 17, Loss: 0.008470631889079717\n",
            "Epoch 18, Loss: 0.008167293162757739\n",
            "Epoch 19, Loss: 0.007884442103976578\n",
            "Epoch 20, Loss: 0.007620105667979636\n"
          ]
        }
      ]
    },
    {
      "cell_type": "code",
      "source": [
        "ypred=[n(x) for x in xs]\n",
        "ypred"
      ],
      "metadata": {
        "colab": {
          "base_uri": "https://localhost:8080/"
        },
        "id": "gKuQrIpzeGQk",
        "outputId": "911ebcf2-1c2b-478f-f0f5-3d9cb0b4304a"
      },
      "execution_count": null,
      "outputs": [
        {
          "output_type": "execute_result",
          "data": {
            "text/plain": [
              "[value (data=0.9302265261719646),\n",
              " value (data=-0.9770304318998375),\n",
              " value (data=-0.8882369611878819),\n",
              " value (data=0.9368331657152182)]"
            ]
          },
          "metadata": {},
          "execution_count": 56
        }
      ]
    }
  ]
}